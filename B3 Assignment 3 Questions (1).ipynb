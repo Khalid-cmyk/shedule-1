{
 "cells": [
  {
   "cell_type": "markdown",
   "id": "040aea0c-eda0-465a-b3f6-fd58237a430b",
   "metadata": {},
   "source": [
    "Question 1: Age Group Classification \n",
    "\n",
    "Write a Python program that takes the age of a person as input and classifies them into one of the following age groups:\n",
    "\n",
    "\"Child\" if the age is between 0 and 12 (inclusive).\n",
    "\n",
    "\"Teenager\" if the age is between 13 and 19 (inclusive).\n",
    "\n",
    "\"Adult\" if the age is between 20 and 64 (inclusive).\n",
    "\n",
    "\"Senior\" if the age is 65 or older.\n"
   ]
  },
  {
   "cell_type": "code",
   "execution_count": 5,
   "id": "c567d204-e1a2-440c-afe4-f460f3f7c927",
   "metadata": {},
   "outputs": [
    {
     "name": "stdin",
     "output_type": "stream",
     "text": [
      "enter your age:  0\n"
     ]
    },
    {
     "name": "stdout",
     "output_type": "stream",
     "text": [
      "not child\n"
     ]
    }
   ],
   "source": [
    "code = int(input(\"enter your age: \"))\n",
    "if code>0 and code<12:\n",
    "    print(\"child\")\n",
    "else:\n",
    "    print(\"not child\")"
   ]
  },
  {
   "cell_type": "code",
   "execution_count": 17,
   "id": "dcb97e9b-c421-425f-9190-866b898c32b8",
   "metadata": {},
   "outputs": [
    {
     "name": "stdin",
     "output_type": "stream",
     "text": [
      "enter your age : 14\n"
     ]
    },
    {
     "name": "stdout",
     "output_type": "stream",
     "text": [
      "teenager\n"
     ]
    }
   ],
   "source": [
    "code = int(input(\"enter your age :\"))\n",
    "if code>13 and code<19:\n",
    "    print(\"teenager\")\n",
    "else:\n",
    "    print(\"not teenager\")"
   ]
  },
  {
   "cell_type": "code",
   "execution_count": 159,
   "id": "3461c06e-e828-4fc1-a32e-2195eb87ad2d",
   "metadata": {},
   "outputs": [
    {
     "name": "stdin",
     "output_type": "stream",
     "text": [
      "enter your age : 21\n"
     ]
    },
    {
     "name": "stdout",
     "output_type": "stream",
     "text": [
      "adult\n"
     ]
    }
   ],
   "source": [
    "code = int(input(\"enter your age :\"))\n",
    "if code>20 and code<64:\n",
    "    print(\"adult\")\n",
    "else:\n",
    "    print(\"not adult\")"
   ]
  },
  {
   "cell_type": "code",
   "execution_count": 23,
   "id": "2e5bb6bd-7002-4cb7-81c1-467aef7739f6",
   "metadata": {},
   "outputs": [
    {
     "name": "stdin",
     "output_type": "stream",
     "text": [
      "enter your age : 66\n"
     ]
    },
    {
     "name": "stdout",
     "output_type": "stream",
     "text": [
      "senior\n"
     ]
    }
   ],
   "source": [
    "code = int(input(\"enter your age :\"))\n",
    "if code>65:\n",
    "    print(\"senior\")\n",
    "else:\n",
    "    print(\"young\")"
   ]
  },
  {
   "cell_type": "code",
   "execution_count": null,
   "id": "ce781107-fa88-4b22-94a9-a31fe41ed4f6",
   "metadata": {},
   "outputs": [],
   "source": []
  },
  {
   "cell_type": "code",
   "execution_count": null,
   "id": "e22ab5cb-037f-4038-9669-9cecf87cacce",
   "metadata": {},
   "outputs": [],
   "source": []
  },
  {
   "cell_type": "markdown",
   "id": "8938dc8b-73f5-4034-af08-a5988d3655a4",
   "metadata": {},
   "source": [
    "Q2. Write a Python program that asks the user to enter an email address. The program should check if the email contains the characters @ and \".\" (ignoring case). If either character is present, print \"Email format is valid.\" Otherwise, print \"Invalid email format.\""
   ]
  },
  {
   "cell_type": "markdown",
   "id": "a074ddbe-c5c4-455e-ac3c-53fbbc6c2d56",
   "metadata": {},
   "source": [
    "Q3. Write a Python program that takes three numbers as input and determines the largest among them. Also, check if any or all of the numbers are equal.\""
   ]
  },
  {
   "cell_type": "markdown",
   "id": "55560bd6-a9d8-4e57-a192-b3e9932ff5cb",
   "metadata": {},
   "source": [
    "Q4. Write a Python program that:\n",
    "\n",
    "Asks the user to enter a number.\n",
    "\n",
    "Checks whether the number is positive.\n",
    "\n",
    "If yes, further check if it's even or odd.\n",
    "\n",
    "Print \"The number is positive and even\" if divisible by 2.\n",
    "\n",
    "Print \"The number is positive and odd\" if not divisible by 2.\n",
    "\n",
    "If the number is zero or negative, print \"The number is not positive\".\n",
    "\n"
   ]
  },
  {
   "cell_type": "code",
   "execution_count": 187,
   "id": "62ed7893-e493-4a81-b9c1-7b39cf844745",
   "metadata": {},
   "outputs": [
    {
     "name": "stdin",
     "output_type": "stream",
     "text": [
      "enter your num:  33\n"
     ]
    },
    {
     "name": "stdout",
     "output_type": "stream",
     "text": [
      "user is odd\n"
     ]
    }
   ],
   "source": [
    "user = int(input(\"enter your num: \"))\n",
    "if user>0:\n",
    "    if user%2 == 0:\n",
    "        print(\"user is positive and even\")\n",
    "    else:\n",
    "        print(\"user is odd\")"
   ]
  },
  {
   "cell_type": "markdown",
   "id": "800fe26a-5d6e-4107-97ba-62fa4f913093",
   "metadata": {},
   "source": [
    "Q5. Ask the user for a username and password. Check if the username is correct. If it is, then check if the password is correct. If both are correct, print \"Access granted\".\n",
    "\n",
    "username = \"admin\"\n",
    "\n",
    "password = \"1234\""
   ]
  },
  {
   "cell_type": "markdown",
   "id": "d7512946-1c55-48d5-b62d-4f17c84f457a",
   "metadata": {},
   "source": [
    "Q6. Take an integer input from the user and check whether the entered value exists in the tuple my_tuple = (5, 10, 15, 20, 25). Print an appropriate message based on the result."
   ]
  },
  {
   "cell_type": "markdown",
   "id": "f38b44b4-1244-4fa9-a186-8153caa421ec",
   "metadata": {},
   "source": [
    "Q7. Create a program that takes the user's first name, last name, and age as input, packs them into a tuple, and prints the tuple."
   ]
  },
  {
   "cell_type": "code",
   "execution_count": 103,
   "id": "e3da0a56-46ac-4456-83ee-8eb4605ac412",
   "metadata": {},
   "outputs": [
    {
     "name": "stdin",
     "output_type": "stream",
     "text": [
      "enter your first name:  RAO\n",
      "enter your last name:  KHALID\n",
      "enter your age:  23\n"
     ]
    },
    {
     "name": "stdout",
     "output_type": "stream",
     "text": [
      "('first name', 'last name', 'age')\n"
     ]
    }
   ],
   "source": [
    "first_name = input(\"enter your first name: \")\n",
    "last_name = input(\"enter your last name: \")\n",
    "age = int(input(\"enter your age: \"))\n",
    "pack = (\"first name\",\"last name\",\"age\")\n",
    "result = tuple(pack)\n",
    "print(result)"
   ]
  },
  {
   "cell_type": "markdown",
   "id": "6a08567b-6f6c-4374-a54e-992c09a31780",
   "metadata": {},
   "source": [
    "Q8. Given the tuple coordinates = (4, 5, 6), unpack the elements of the tuple into three variables x, y, and z. Then, calculate and print the sum of the variables."
   ]
  },
  {
   "cell_type": "markdown",
   "id": "d3973711-1c49-436f-aaff-e0a19877f525",
   "metadata": {},
   "source": [
    "Q9. Given the tuple my_tuple = (1, 2, 3, 4, 5), remove the element 3 from the tuple by first converting it to a list, and then print the resulting tuple."
   ]
  },
  {
   "cell_type": "markdown",
   "id": "c9c6a478-5d3d-4e1e-8bce-b9479925c7c5",
   "metadata": {},
   "source": [
    "Q10. Given the tuple numbers = (10, 20, 5, 30, 15), find and print the maximum and minimum values in the tuple."
   ]
  },
  {
   "cell_type": "code",
   "execution_count": 48,
   "id": "c9bc28ba-274e-4159-9b10-8d19c0a10009",
   "metadata": {},
   "outputs": [
    {
     "name": "stdout",
     "output_type": "stream",
     "text": [
      "30\n"
     ]
    }
   ],
   "source": [
    "series = (10,20,5,30,15)\n",
    "value = max(series)\n",
    "print(value)"
   ]
  },
  {
   "cell_type": "code",
   "execution_count": 52,
   "id": "b1b1b540-4891-4cbf-b4d0-b3ba1643ed8d",
   "metadata": {},
   "outputs": [
    {
     "name": "stdout",
     "output_type": "stream",
     "text": [
      "5\n"
     ]
    }
   ],
   "source": [
    "series2 = (10,20,5,30,15)\n",
    "value2 = min(series2)\n",
    "print(value2)"
   ]
  },
  {
   "cell_type": "code",
   "execution_count": 56,
   "id": "23f2258c-e489-4d2a-8b1c-20b9e76ac764",
   "metadata": {},
   "outputs": [
    {
     "data": {
      "text/plain": [
       "4"
      ]
     },
     "execution_count": 56,
     "metadata": {},
     "output_type": "execute_result"
    }
   ],
   "source": [
    "#QUESTION 8\n",
    "tup = (4,5,6)\n",
    "x,y,z = (4,5,6)\n",
    "x"
   ]
  },
  {
   "cell_type": "code",
   "execution_count": 59,
   "id": "d7018493-c6b7-47f6-a18c-55e294d2dad6",
   "metadata": {},
   "outputs": [
    {
     "data": {
      "text/plain": [
       "5"
      ]
     },
     "execution_count": 59,
     "metadata": {},
     "output_type": "execute_result"
    }
   ],
   "source": [
    "y"
   ]
  },
  {
   "cell_type": "code",
   "execution_count": 61,
   "id": "cffb9863-c0d5-48e0-a9e6-b77353e4ad6d",
   "metadata": {},
   "outputs": [
    {
     "data": {
      "text/plain": [
       "6"
      ]
     },
     "execution_count": 61,
     "metadata": {},
     "output_type": "execute_result"
    }
   ],
   "source": [
    "z"
   ]
  },
  {
   "cell_type": "code",
   "execution_count": 63,
   "id": "b73346b5-95ee-4be6-9940-cffa749315a2",
   "metadata": {},
   "outputs": [],
   "source": [
    "add = x+y+z"
   ]
  },
  {
   "cell_type": "code",
   "execution_count": 65,
   "id": "36582195-a78d-4893-9cd1-70a901d5acf5",
   "metadata": {},
   "outputs": [
    {
     "name": "stdout",
     "output_type": "stream",
     "text": [
      "15\n"
     ]
    }
   ],
   "source": [
    "print(add)"
   ]
  },
  {
   "cell_type": "code",
   "execution_count": 85,
   "id": "27f04f17-d16a-4ac4-b073-c9c8d2e743e9",
   "metadata": {},
   "outputs": [],
   "source": [
    "#QUESTION 9\n",
    "my_tuple = (1,2,3,4,5)\n",
    "my_list = list(my_tuple)"
   ]
  },
  {
   "cell_type": "code",
   "execution_count": 87,
   "id": "0616374e-84dc-49be-8bd8-f257ac76b3b7",
   "metadata": {},
   "outputs": [
    {
     "data": {
      "text/plain": [
       "[1, 2, 3, 4, 5]"
      ]
     },
     "execution_count": 87,
     "metadata": {},
     "output_type": "execute_result"
    }
   ],
   "source": [
    "my_list"
   ]
  },
  {
   "cell_type": "code",
   "execution_count": 89,
   "id": "61b6d518-00f7-4444-9898-4f37f1e812a4",
   "metadata": {},
   "outputs": [],
   "source": [
    "my_list.remove(3)"
   ]
  },
  {
   "cell_type": "code",
   "execution_count": 91,
   "id": "8a4729fd-0c3b-4d0d-839e-53b29bb585e3",
   "metadata": {},
   "outputs": [
    {
     "data": {
      "text/plain": [
       "[1, 2, 4, 5]"
      ]
     },
     "execution_count": 91,
     "metadata": {},
     "output_type": "execute_result"
    }
   ],
   "source": [
    "my_list"
   ]
  },
  {
   "cell_type": "code",
   "execution_count": 93,
   "id": "d38ae684-55bf-480f-8a7c-169e9fb1b3ce",
   "metadata": {},
   "outputs": [],
   "source": [
    "my_tuple = tuple(my_list)"
   ]
  },
  {
   "cell_type": "code",
   "execution_count": 95,
   "id": "472b1186-406e-4426-b988-efff222ddeae",
   "metadata": {},
   "outputs": [
    {
     "data": {
      "text/plain": [
       "(1, 2, 4, 5)"
      ]
     },
     "execution_count": 95,
     "metadata": {},
     "output_type": "execute_result"
    }
   ],
   "source": [
    "my_tuple"
   ]
  },
  {
   "cell_type": "code",
   "execution_count": 113,
   "id": "cb2a4a90-f118-459f-9691-3f6483f95e0b",
   "metadata": {},
   "outputs": [
    {
     "name": "stdin",
     "output_type": "stream",
     "text": [
      "enter user_num 20\n"
     ]
    },
    {
     "name": "stdout",
     "output_type": "stream",
     "text": [
      "num exist\n"
     ]
    }
   ],
   "source": [
    "#QUESTION 6\n",
    "my_code = (5,10,15,20,25)\n",
    "user_num = int(input(\"enter user_num\"))\n",
    "if user_num  in my_code:\n",
    "    print(\"num exist\")\n",
    "else:\n",
    "    print(\"not exist\")"
   ]
  },
  {
   "cell_type": "code",
   "execution_count": 149,
   "id": "1a8fc5f0-9aa6-49c0-b516-05411d879f0f",
   "metadata": {},
   "outputs": [
    {
     "name": "stdin",
     "output_type": "stream",
     "text": [
      "enter username:  adnim\n",
      "enter password 1234\n"
     ]
    },
    {
     "name": "stdout",
     "output_type": "stream",
     "text": [
      "not granted\n"
     ]
    }
   ],
   "source": [
    "#QUESTION 5\n",
    "username = \"admin\"\n",
    "password = \"1234\"\n",
    "user = input(\"enter username: \")\n",
    "passkey = input(\"enter password\")\n",
    "if user==\"admin\":\n",
    "    if passkey == \"1234\":\n",
    "            print(\"access granted\")\n",
    "else:\n",
    "    print(\"not granted\")"
   ]
  },
  {
   "cell_type": "code",
   "execution_count": 153,
   "id": "7de2fd0e-c905-4abd-9520-5471a50725de",
   "metadata": {},
   "outputs": [
    {
     "name": "stdin",
     "output_type": "stream",
     "text": [
      "enter your email:  krao0432@gmail.com\n"
     ]
    },
    {
     "name": "stdout",
     "output_type": "stream",
     "text": [
      "email format is valid\n"
     ]
    }
   ],
   "source": [
    "#QUESTION 2\n",
    "user_input = input(\"enter your email: \")\n",
    "if \"@\" in user_input:\n",
    "    if \".\"in user_input:\n",
    "        print(\"email format is valid\")\n",
    "    else:\n",
    "        print(\"invalid email\")"
   ]
  },
  {
   "cell_type": "code",
   "execution_count": 181,
   "id": "b804e867-6c1a-4d4e-9343-00f1307787b2",
   "metadata": {},
   "outputs": [
    {
     "name": "stdin",
     "output_type": "stream",
     "text": [
      "enter num1 12\n",
      "enter num2 32\n",
      "enter num3 22\n"
     ]
    },
    {
     "name": "stdout",
     "output_type": "stream",
     "text": [
      "32\n"
     ]
    }
   ],
   "source": [
    "# QUESTION 3\n",
    "num1 = int(input(\"enter num1\"))\n",
    "num2 = int(input(\"enter num2\"))\n",
    "num3 = int(input(\"enter num3\"))\n",
    "largest = max(num1,num2,num3)\n",
    "print (largest)"
   ]
  },
  {
   "cell_type": "code",
   "execution_count": null,
   "id": "0841b824-c16e-4a37-b88b-15ff03929348",
   "metadata": {},
   "outputs": [],
   "source": []
  }
 ],
 "metadata": {
  "kernelspec": {
   "display_name": "Python [conda env:base] *",
   "language": "python",
   "name": "conda-base-py"
  },
  "language_info": {
   "codemirror_mode": {
    "name": "ipython",
    "version": 3
   },
   "file_extension": ".py",
   "mimetype": "text/x-python",
   "name": "python",
   "nbconvert_exporter": "python",
   "pygments_lexer": "ipython3",
   "version": "3.12.7"
  }
 },
 "nbformat": 4,
 "nbformat_minor": 5
}
